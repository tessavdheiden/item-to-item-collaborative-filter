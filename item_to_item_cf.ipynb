{
 "cells": [
  {
   "cell_type": "markdown",
   "metadata": {
    "id": "ccCulWXnCx6S"
   },
   "source": [
    "# Introduction\n",
    "The goal of this notebook is to model an item-to-item collaborative filter, that, for a given item, recommends other items that share the same viewers. \n",
    "\n",
    "*Data*\n",
    "- EventId -- A unique identifier for this event in the form of a SHA256 hash\n",
    "- MediaId -- A unique identifier for watched Media items as an integer\n",
    "- UserId -- A unique identifier for a user-account as an integer\n",
    "- Timestamp -- A Unix/POSIX Epoch time representation of the client-side time\n",
    "- DateTime -- An ISO-8601 formatted representation of the client-side time\n",
    "- EventType -- The type of view-event send to the server\n",
    "-- waypoint -- denoting a 30 seconds watched interval\n",
    "-- streamstart -- denoting the start of a stream\n",
    "-- streamstop -- denoting a client-initiated stop of stream\n",
    "-- streamend -- denoting the end of the media item is reached, should occur once for each user-\n",
    "item combination"
   ]
  },
  {
   "cell_type": "code",
   "execution_count": 1,
   "metadata": {
    "colab": {
     "base_uri": "https://localhost:8080/"
    },
    "id": "73xkEdtNESpn",
    "outputId": "9dbc9397-fc59-4f8d-bc76-85929dc39143"
   },
   "outputs": [],
   "source": [
    "from collections import Counter\n",
    "import gzip\n",
    "import joblib\n",
    "import json\n",
    "import os\n",
    "import matplotlib.pyplot as plt\n",
    "import numpy as np\n",
    "import pandas as pd\n",
    "from scipy.sparse import csr_matrix\n",
    "from sklearn.neighbors import NearestNeighbors\n",
    "import timeit\n",
    "\n",
    "pd.options.mode.chained_assignment = None\n",
    "\n",
    "FONTSIZE = 15\n",
    "LOCAL_PATH = 'data/'\n",
    "FILE_PATH = LOCAL_PATH + \"noisy_mock_events.gz\""
   ]
  },
  {
   "cell_type": "markdown",
   "metadata": {
    "id": "ZrPNObnOCgCc"
   },
   "source": [
    "# Process stream events\n",
    "The following steps were done to process the data:\n",
    "- Read data and store as pd.DataFrame.\n",
    "- Group by user and items, aggregate the streamlength.\n",
    "- Filter streams that don't contain StreamStart and StreamStop, because StreamStop is related to user interaction.  "
   ]
  },
  {
   "cell_type": "code",
   "execution_count": 2,
   "metadata": {
    "colab": {
     "base_uri": "https://localhost:8080/"
    },
    "id": "W9VCIB5BZc7W",
    "outputId": "99c319d8-27d6-4e81-ac11-71edd95ce533"
   },
   "outputs": [
    {
     "name": "stdout",
     "output_type": "stream",
     "text": [
      "Took 45.82 seconds.\n"
     ]
    }
   ],
   "source": [
    "# get keys\n",
    "with gzip.open(FILE_PATH, \"r\") as events_file:\n",
    "    while line := events_file.readline():\n",
    "        event = json.loads(line)\n",
    "        # discard EventId\n",
    "        keys = list(event.keys())[1:]\n",
    "        break\n",
    "\n",
    "# get values\n",
    "collab_raw_timeseries = []\n",
    "\n",
    "start_time = timeit.default_timer()\n",
    "\n",
    "with gzip.open(FILE_PATH, \"r\") as events_file:\n",
    "    while line := events_file.readline():\n",
    "        event = json.loads(line)\n",
    "        # discard EventId values\n",
    "        collab_raw_timeseries.append(list(event.values())[1:])\n",
    "\n",
    "print(f'Took {timeit.default_timer()-start_time:.2f} seconds.')\n",
    "\n",
    "df = pd.DataFrame(collab_raw_timeseries, columns = keys)"
   ]
  },
  {
   "cell_type": "markdown",
   "metadata": {
    "id": "cuuSiFJn3v6Y"
   },
   "source": [
    "# Preprocessing"
   ]
  },
  {
   "cell_type": "code",
   "execution_count": 3,
   "metadata": {},
   "outputs": [
    {
     "data": {
      "text/plain": [
       "UserId       object\n",
       "MediaId       int64\n",
       "Timestamp     int64\n",
       "DateTime     object\n",
       "EventType    object\n",
       "dtype: object"
      ]
     },
     "execution_count": 3,
     "metadata": {},
     "output_type": "execute_result"
    }
   ],
   "source": [
    "# Incorrect types: Timestamp is int, and UserId is string. \n",
    "df.dtypes"
   ]
  },
  {
   "cell_type": "code",
   "execution_count": 4,
   "metadata": {
    "colab": {
     "base_uri": "https://localhost:8080/"
    },
    "id": "TeMGN1rL3j-M",
    "outputId": "316f37b3-07fc-49ae-9440-fe2a8837a418"
   },
   "outputs": [
    {
     "name": "stdout",
     "output_type": "stream",
     "text": [
      "Missing values :   0\n"
     ]
    }
   ],
   "source": [
    "print(\"Missing values :  \", df.isnull().sum().values.sum())"
   ]
  },
  {
   "cell_type": "code",
   "execution_count": 5,
   "metadata": {
    "id": "Jd01fPXlS0Ne"
   },
   "outputs": [],
   "source": [
    "# replace id's that are strings instead of int\n",
    "df['UserId'] = df['UserId'].apply(lambda x: x if isinstance(x, int) else int(x[1:-1]))"
   ]
  },
  {
   "cell_type": "code",
   "execution_count": 6,
   "metadata": {
    "id": "lJMMLnyzVi9g"
   },
   "outputs": [],
   "source": [
    "# convert timestamp from int to datetime object, such that we can substract dates\n",
    "df['DateTime'] = pd.to_datetime(df['DateTime'])"
   ]
  },
  {
   "cell_type": "code",
   "execution_count": 7,
   "metadata": {
    "id": "tlvcL2NDxlyQ"
   },
   "outputs": [],
   "source": [
    "# limit memory\n",
    "df = df[df['EventType'] != 'waypoint']"
   ]
  },
  {
   "cell_type": "code",
   "execution_count": 8,
   "metadata": {
    "id": "0m4FXXzzxxl0"
   },
   "outputs": [],
   "source": [
    "# a list of events will indicate if users missed particular event types.\n",
    "# convert streamlength to minutes to make values interpretable.\n",
    "df_media_users_grouped = df.groupby(['MediaId', 'UserId'], as_index=False).agg(\n",
    "    EventTypeList = pd.NamedAgg('EventType', lambda x: list(x)),\n",
    "    EventTimesList = pd.NamedAgg('DateTime', lambda x: list(x)),\n",
    "    StreamLength = pd.NamedAgg(\n",
    "        'DateTime', lambda x: (x.iloc[-1] - x.iloc[0]).total_seconds() // 60\n",
    "    )\n",
    ")"
   ]
  },
  {
   "cell_type": "code",
   "execution_count": 14,
   "metadata": {},
   "outputs": [
    {
     "data": {
      "text/plain": [
       "Text(0.5, 1.0, 'Times between events vs total stream length')"
      ]
     },
     "execution_count": 14,
     "metadata": {},
     "output_type": "execute_result"
    },
    {
     "data": {
      "image/png": "[encoded data removed]",
      "text/plain": [
       "<Figure size 400x400 with 1 Axes>"
      ]
     },
     "metadata": {},
     "output_type": "display_data"
    }
   ],
   "source": [
    "# StreamEnd means that the end of a stream is reached.\n",
    "# However, there are waypoints between start-end, end-end, end-stop.\n",
    "# Time between events on average is ~18 min, while total length ~58 min.\n",
    "contains_start = df_media_users_grouped['EventTypeList'].apply(lambda x: 'streamstart' in x)\n",
    "contains_end = df_media_users_grouped['EventTypeList'].apply(lambda x: 'streamend' in x)\n",
    "contains_stop = df_media_users_grouped['EventTypeList'].apply(lambda x: 'streamstop' in x)\n",
    "\n",
    "# plot difference in time between events, and total length, i.e. start-stop.\n",
    "_, ax = plt.subplots(figsize=(4,4))\n",
    "df_start_end_stop = df_media_users_grouped[contains_start & contains_end & contains_stop]\n",
    "df_start_end_stop[\"TimeBetweenEvents\"] = df_start_end_stop[\"EventTimesList\"].apply(lambda x: np.array(x)).apply(lambda x: (x[1:] - x[:-1]).mean().total_seconds() // 60)\n",
    "df_start_end_stop[\"TimeBetweenStartStop\"] = df_start_end_stop[\"EventTimesList\"].apply(lambda x: np.array(x)).apply(lambda x: (x[-1] - x[0]).total_seconds() // 60)\n",
    "df_start_end_stop.plot.box(column=[\"TimeBetweenEvents\", \"TimeBetweenStartStop\"], ax = ax)\n",
    "ax.set_title(\"Times between events vs total stream length\", fontsize=FONTSIZE)"
   ]
  },
  {
   "cell_type": "code",
   "execution_count": 15,
   "metadata": {
    "id": "17mrh1pn0hGf"
   },
   "outputs": [],
   "source": [
    "# filter out if start and stop are not in EventType, because stream length (the rating) will be between start and stop\n",
    "contains_start = df_media_users_grouped['EventTypeList'].apply(lambda x: 'streamstart' in x)\n",
    "contains_stop = df_media_users_grouped['EventTypeList'].apply(lambda x: 'streamstop' in x)\n",
    "df_media_users_grouped = df_media_users_grouped[contains_start & contains_stop]"
   ]
  },
  {
   "cell_type": "code",
   "execution_count": 18,
   "metadata": {
    "id": "688_a_dp4r2w"
   },
   "outputs": [
    {
     "data": {
      "text/html": [
       "<div>\n",
       "<style scoped>\n",
       "    .dataframe tbody tr th:only-of-type {\n",
       "        vertical-align: middle;\n",
       "    }\n",
       "\n",
       "    .dataframe tbody tr th {\n",
       "        vertical-align: top;\n",
       "    }\n",
       "\n",
       "    .dataframe thead th {\n",
       "        text-align: right;\n",
       "    }\n",
       "</style>\n",
       "<table border=\"1\" class=\"dataframe\">\n",
       "  <thead>\n",
       "    <tr style=\"text-align: right;\">\n",
       "      <th></th>\n",
       "      <th>MediaId</th>\n",
       "      <th>UserId</th>\n",
       "      <th>StreamLength</th>\n",
       "    </tr>\n",
       "  </thead>\n",
       "  <tbody>\n",
       "    <tr>\n",
       "      <th>1</th>\n",
       "      <td>1</td>\n",
       "      <td>2</td>\n",
       "      <td>47.0</td>\n",
       "    </tr>\n",
       "    <tr>\n",
       "      <th>2</th>\n",
       "      <td>1</td>\n",
       "      <td>5</td>\n",
       "      <td>47.0</td>\n",
       "    </tr>\n",
       "    <tr>\n",
       "      <th>3</th>\n",
       "      <td>1</td>\n",
       "      <td>6</td>\n",
       "      <td>47.0</td>\n",
       "    </tr>\n",
       "    <tr>\n",
       "      <th>4</th>\n",
       "      <td>1</td>\n",
       "      <td>10</td>\n",
       "      <td>47.0</td>\n",
       "    </tr>\n",
       "    <tr>\n",
       "      <th>5</th>\n",
       "      <td>1</td>\n",
       "      <td>13</td>\n",
       "      <td>35.0</td>\n",
       "    </tr>\n",
       "  </tbody>\n",
       "</table>\n",
       "</div>"
      ],
      "text/plain": [
       "   MediaId  UserId  StreamLength\n",
       "1        1       2          47.0\n",
       "2        1       5          47.0\n",
       "3        1       6          47.0\n",
       "4        1      10          47.0\n",
       "5        1      13          35.0"
      ]
     },
     "execution_count": 18,
     "metadata": {},
     "output_type": "execute_result"
    }
   ],
   "source": [
    "# continue with the filtered group by object\n",
    "df = df_media_users_grouped[[\"MediaId\", \"UserId\", \"StreamLength\"]]\n",
    "df.head()"
   ]
  },
  {
   "cell_type": "code",
   "execution_count": 19,
   "metadata": {
    "colab": {
     "base_uri": "https://localhost:8080/",
     "height": 49
    },
    "id": "ULOZE4LO9THw",
    "outputId": "be520668-3d04-44e3-d1d6-4554f424dea7"
   },
   "outputs": [
    {
     "data": {
      "text/plain": [
       "0"
      ]
     },
     "execution_count": 19,
     "metadata": {},
     "output_type": "execute_result"
    }
   ],
   "source": [
    "# just checking if streamlength is less than 0\n",
    "len(df[df[\"StreamLength\"] < 0])"
   ]
  },
  {
   "cell_type": "code",
   "execution_count": 20,
   "metadata": {
    "colab": {
     "base_uri": "https://localhost:8080/"
    },
    "id": "qHTLRmHqzbZh",
    "outputId": "5984851a-854a-4b02-e063-faf0626904f8"
   },
   "outputs": [
    {
     "data": {
      "text/plain": [
       "MediaId           int64\n",
       "UserId            int64\n",
       "StreamLength    float64\n",
       "dtype: object"
      ]
     },
     "execution_count": 20,
     "metadata": {},
     "output_type": "execute_result"
    }
   ],
   "source": [
    "df.dtypes"
   ]
  },
  {
   "cell_type": "markdown",
   "metadata": {
    "id": "v3wagKQnz-W6"
   },
   "source": [
    "# Key insights "
   ]
  },
  {
   "cell_type": "code",
   "execution_count": 21,
   "metadata": {
    "colab": {
     "base_uri": "https://localhost:8080/"
    },
    "id": "084HrAZT9bhY",
    "outputId": "eb9c3f6c-a3b5-463f-a0b3-7197a4a95391"
   },
   "outputs": [
    {
     "name": "stdout",
     "output_type": "stream",
     "text": [
      "Number of ratings: 78799\n",
      "Number of unique media: 1672\n",
      "Number of unique users: 943\n",
      "Average ratings per user: 83.56\n",
      "Average ratings per media: 47.13\n"
     ]
    }
   ],
   "source": [
    "n_ratings = len(df)\n",
    "n_media = len(df['MediaId'].unique())\n",
    "n_users = len(df['UserId'].unique())\n",
    "  \n",
    "print(f\"Number of ratings: {n_ratings}\")\n",
    "print(f\"Number of unique media: {n_media}\")\n",
    "print(f\"Number of unique users: {n_users}\")\n",
    " \n",
    "print(f\"Average ratings per user: {round(n_ratings/n_users, 2)}\")\n",
    "print(f\"Average ratings per media: {round(n_ratings/n_media, 2)}\")"
   ]
  },
  {
   "cell_type": "code",
   "execution_count": 22,
   "metadata": {
    "colab": {
     "base_uri": "https://localhost:8080/",
     "height": 143
    },
    "id": "6kovlrhh9oRo",
    "outputId": "97ac7f98-c9d0-4725-b49a-c948524b76b6"
   },
   "outputs": [
    {
     "data": {
      "text/html": [
       "<div>\n",
       "<style scoped>\n",
       "    .dataframe tbody tr th:only-of-type {\n",
       "        vertical-align: middle;\n",
       "    }\n",
       "\n",
       "    .dataframe tbody tr th {\n",
       "        vertical-align: top;\n",
       "    }\n",
       "\n",
       "    .dataframe thead th {\n",
       "        text-align: right;\n",
       "    }\n",
       "</style>\n",
       "<table border=\"1\" class=\"dataframe\">\n",
       "  <thead>\n",
       "    <tr style=\"text-align: right;\">\n",
       "      <th></th>\n",
       "      <th>UserId</th>\n",
       "      <th>n_views</th>\n",
       "    </tr>\n",
       "  </thead>\n",
       "  <tbody>\n",
       "    <tr>\n",
       "      <th>654</th>\n",
       "      <td>655</td>\n",
       "      <td>670</td>\n",
       "    </tr>\n",
       "    <tr>\n",
       "      <th>404</th>\n",
       "      <td>405</td>\n",
       "      <td>669</td>\n",
       "    </tr>\n",
       "    <tr>\n",
       "      <th>12</th>\n",
       "      <td>13</td>\n",
       "      <td>500</td>\n",
       "    </tr>\n",
       "  </tbody>\n",
       "</table>\n",
       "</div>"
      ],
      "text/plain": [
       "     UserId  n_views\n",
       "654     655      670\n",
       "404     405      669\n",
       "12       13      500"
      ]
     },
     "execution_count": 22,
     "metadata": {},
     "output_type": "execute_result"
    }
   ],
   "source": [
    "# dedicated users\n",
    "user_freq = df[['UserId', 'MediaId']].groupby('UserId').count().reset_index()\n",
    "user_freq.columns = ['UserId', 'n_views']\n",
    "user_freq.sort_values('n_views', ascending=False).head(3)"
   ]
  },
  {
   "cell_type": "code",
   "execution_count": 23,
   "metadata": {
    "colab": {
     "base_uri": "https://localhost:8080/",
     "height": 143
    },
    "id": "2aYTfia29ysF",
    "outputId": "14d7436c-65c5-4fc3-88df-90971e35d8cd"
   },
   "outputs": [
    {
     "data": {
      "text/html": [
       "<div>\n",
       "<style scoped>\n",
       "    .dataframe tbody tr th:only-of-type {\n",
       "        vertical-align: middle;\n",
       "    }\n",
       "\n",
       "    .dataframe tbody tr th {\n",
       "        vertical-align: top;\n",
       "    }\n",
       "\n",
       "    .dataframe thead th {\n",
       "        text-align: right;\n",
       "    }\n",
       "</style>\n",
       "<table border=\"1\" class=\"dataframe\">\n",
       "  <thead>\n",
       "    <tr style=\"text-align: right;\">\n",
       "      <th></th>\n",
       "      <th>MediaId</th>\n",
       "      <th>n_views</th>\n",
       "    </tr>\n",
       "  </thead>\n",
       "  <tbody>\n",
       "    <tr>\n",
       "      <th>293</th>\n",
       "      <td>294</td>\n",
       "      <td>439</td>\n",
       "    </tr>\n",
       "    <tr>\n",
       "      <th>287</th>\n",
       "      <td>288</td>\n",
       "      <td>393</td>\n",
       "    </tr>\n",
       "    <tr>\n",
       "      <th>257</th>\n",
       "      <td>258</td>\n",
       "      <td>377</td>\n",
       "    </tr>\n",
       "  </tbody>\n",
       "</table>\n",
       "</div>"
      ],
      "text/plain": [
       "     MediaId  n_views\n",
       "293      294      439\n",
       "287      288      393\n",
       "257      258      377"
      ]
     },
     "execution_count": 23,
     "metadata": {},
     "output_type": "execute_result"
    }
   ],
   "source": [
    "# popular media \n",
    "item_freq = df[['UserId', 'MediaId']].groupby('MediaId').count().reset_index()\n",
    "item_freq.columns = ['MediaId', 'n_views']\n",
    "item_freq.sort_values('n_views', ascending=False).head(3)"
   ]
  },
  {
   "cell_type": "code",
   "execution_count": 24,
   "metadata": {},
   "outputs": [
    {
     "data": {
      "image/png": "[encoded data removed]",
      "text/plain": [
       "<Figure size 800x400 with 1 Axes>"
      ]
     },
     "metadata": {},
     "output_type": "display_data"
    }
   ],
   "source": [
    "# Many media items distribution has a relatively long tale.\n",
    "# Useful if one wants to increase diversity.\n",
    "_, ax = plt.subplots(figsize=(8, 4))\n",
    "item_freq.sort_values('n_views', ascending=False)['n_views'].plot.bar(ax=ax, width=.5)\n",
    "ax.set_xticklabels([])\n",
    "ax.set_xticks([])\n",
    "ax.set_title('MediaItems order by views');"
   ]
  },
  {
   "cell_type": "code",
   "execution_count": 25,
   "metadata": {
    "colab": {
     "base_uri": "https://localhost:8080/"
    },
    "id": "FvIKM3AF3_mM",
    "outputId": "b0515b1f-27a5-435f-bcdd-445586d4ee7d"
   },
   "outputs": [
    {
     "name": "stdout",
     "output_type": "stream",
     "text": [
      "Lowest rated MediaId: [1063] by 29 users.\n"
     ]
    }
   ],
   "source": [
    "# Find Lowest and Highest rated media:\n",
    "mean_rating = df.groupby('MediaId')[['StreamLength']].mean()\n",
    "# Lowest rated media\n",
    "lowest_rated = mean_rating['StreamLength'].idxmin()\n",
    "lowest_rated_MediaId = df.loc[df['MediaId'] == lowest_rated]['MediaId']\n",
    "print(f'Lowest rated MediaId: {lowest_rated_MediaId.unique()} by {len(lowest_rated_MediaId)} users.')"
   ]
  },
  {
   "cell_type": "code",
   "execution_count": 26,
   "metadata": {
    "colab": {
     "base_uri": "https://localhost:8080/"
    },
    "id": "bWHbYw865UUP",
    "outputId": "26575acd-b0f3-4d92-e02d-9a1f7cff636a"
   },
   "outputs": [
    {
     "name": "stdout",
     "output_type": "stream",
     "text": [
      "Lowest rated MediaId: [1593] by 1 users.\n"
     ]
    }
   ],
   "source": [
    "# Highest rated media\n",
    "highest_rated = mean_rating['StreamLength'].idxmax()\n",
    "highest_rated_MediaId = df.loc[df['MediaId'] == highest_rated]['MediaId']\n",
    "print(f'Lowest rated MediaId: {highest_rated_MediaId.unique()} by {len(highest_rated_MediaId)} users.')"
   ]
  },
  {
   "cell_type": "code",
   "execution_count": 27,
   "metadata": {
    "colab": {
     "base_uri": "https://localhost:8080/",
     "height": 410
    },
    "id": "uGBXUB-a5131",
    "outputId": "95676693-ef21-4a14-a065-7012a8ca0551"
   },
   "outputs": [
    {
     "data": {
      "text/plain": [
       "Text(0.5, 1.0, 'Stream length in minutes')"
      ]
     },
     "execution_count": 27,
     "metadata": {},
     "output_type": "execute_result"
    },
    {
     "data": {
      "image/png": "[encoded data removed]",
      "text/plain": [
       "<Figure size 400x400 with 1 Axes>"
      ]
     },
     "metadata": {},
     "output_type": "display_data"
    }
   ],
   "source": [
    "# Outliers are visualized by black circles, indicating that they \n",
    "_, ax = plt.subplots(figsize=(4, 4))\n",
    "df['StreamLength'].plot.box(ax=ax, showmeans=True)\n",
    "ax.set_title('Stream length in minutes', fontsize=FONTSIZE)"
   ]
  },
  {
   "cell_type": "markdown",
   "metadata": {
    "id": "u_9Fnp2X9tOC"
   },
   "source": [
    "# Processing ratings"
   ]
  },
  {
   "cell_type": "code",
   "execution_count": 28,
   "metadata": {
    "id": "IfGHg1FR7eV1"
   },
   "outputs": [
    {
     "data": {
      "text/plain": [
       "count    78799.000000\n",
       "mean        55.154190\n",
       "std         26.025976\n",
       "min          0.000000\n",
       "25%         36.000000\n",
       "50%         53.000000\n",
       "75%         72.000000\n",
       "max        156.000000\n",
       "Name: StreamLength, dtype: float64"
      ]
     },
     "execution_count": 28,
     "metadata": {},
     "output_type": "execute_result"
    }
   ],
   "source": [
    "stats = df['StreamLength'].describe()\n",
    "stats"
   ]
  },
  {
   "cell_type": "code",
   "execution_count": 29,
   "metadata": {},
   "outputs": [],
   "source": [
    "# outliers can happen due to errors in data collection\n",
    "# they can also distort the similarity computation\n",
    "\n",
    "# Calculate the boundaries for outliers\n",
    "q1 = stats['25%']\n",
    "q3 = stats['75%']\n",
    "iqr = q3 - q1\n",
    "lower_bound = q1 - 1.5 * iqr\n",
    "upper_bound = q3 + 1.5 * iqr\n",
    "\n",
    "# Filter out outliers\n",
    "df = df[(df['StreamLength'] >= lower_bound) & (df['StreamLength'] <= upper_bound)]"
   ]
  },
  {
   "cell_type": "code",
   "execution_count": 30,
   "metadata": {},
   "outputs": [],
   "source": [
    "df = df.rename(columns={\"StreamLength\": \"Rating\"})"
   ]
  },
  {
   "cell_type": "code",
   "execution_count": 31,
   "metadata": {
    "colab": {
     "base_uri": "https://localhost:8080/",
     "height": 408
    },
    "id": "v9iskO9l8qnE",
    "outputId": "375efdf3-88d0-4dcc-f4e4-fea3b81795e2"
   },
   "outputs": [
    {
     "data": {
      "text/plain": [
       "Text(0.5, 1.0, 'Rating')"
      ]
     },
     "execution_count": 31,
     "metadata": {},
     "output_type": "execute_result"
    },
    {
     "data": {
      "image/png": "[encoded data removed]",
      "text/plain": [
       "<Figure size 400x400 with 1 Axes>"
      ]
     },
     "metadata": {},
     "output_type": "display_data"
    }
   ],
   "source": [
    "_, ax = plt.subplots(figsize=(4, 4))\n",
    "df[\"Rating\"].plot.box(ax=ax)\n",
    "ax.set_title(\"Rating\")"
   ]
  },
  {
   "cell_type": "markdown",
   "metadata": {
    "id": "TUZsD9TBCnlK"
   },
   "source": [
    "# Item-to-item collaborative filter\n",
    "A kNN will be used to find similar items based on the ratings from users. \n",
    "- Metric: The similarity metric will be 'cosine distance'. Unlike 'euclidean distance' it takes the vector-norm into account, so if two media items differ in total video length, that won't affect the rating. It's also suitable for floats.\n",
    "- Algorithm: 'Ball-tree' is more efficient than 'brute' for structering the data, and unlike a 'KD-tree' it is suitable for high-dimensional data.\n",
    "\n",
    "👆 Notes:\n",
    "- kNN requires to store the item-user matrix, which can take up a lot of memory. Alternative methods use matrix vectorization to prevent this. \n",
    "- A [popularity bias](https://realpython.com/build-recommendation-engine-collaborative-filtering/) when items that are frequently viewed are recommended more often, because they appear more similar to other items. A way to mitigate this is to substitue 0's by the average rating or to use the 'centered cosine'. "
   ]
  },
  {
   "cell_type": "code",
   "execution_count": 32,
   "metadata": {
    "colab": {
     "base_uri": "https://localhost:8080/"
    },
    "id": "3lsd0Kum96qb",
    "outputId": "f7a929cc-1861-4313-9e18-bc7a2cdf1c06"
   },
   "outputs": [
    {
     "name": "stdout",
     "output_type": "stream",
     "text": [
      "943 943\n",
      "1682 1671\n"
     ]
    }
   ],
   "source": [
    "# We need a mapper\n",
    "print(df[\"UserId\"].max(), len(df[\"UserId\"].unique()))\n",
    "print(df[\"MediaId\"].max(), len(df[\"MediaId\"].unique()))"
   ]
  },
  {
   "cell_type": "code",
   "execution_count": 33,
   "metadata": {
    "id": "UcvCwKvYCtKI"
   },
   "outputs": [],
   "source": [
    "def create_matrix(df: pd.DataFrame):\n",
    "    \"\"\"\n",
    "    Create compressed Sparse Row matrix with M-item-rows and N-user-columns.\n",
    "    Media and User mappers are used to map id's to indices.\n",
    "    params: pd.DataFrame\n",
    "    returns: scipy.sparse.csr_matrix for the compressed matrix, and the mappings (dict)\n",
    "    \"\"\"\n",
    "    N = len(df['UserId'].unique())\n",
    "    M = len(df['MediaId'].unique())\n",
    "\n",
    "    # Map Ids to indices\n",
    "    user_mapper = dict(zip(np.unique(df[\"UserId\"]), list(range(N))))\n",
    "    media_mapper = dict(zip(np.unique(df[\"MediaId\"]), list(range(M))))\n",
    "\n",
    "    # Map indices to IDs\n",
    "    user_inv_mapper = dict(zip(list(range(N)), np.unique(df[\"UserId\"])))\n",
    "    media_inv_mapper = dict(zip(list(range(M)), np.unique(df[\"MediaId\"])))\n",
    "\n",
    "    user_index = [user_mapper[i] for i in df['UserId']]\n",
    "    media_index = [media_mapper[i] for i in df['MediaId']]\n",
    "\n",
    "    X = csr_matrix((df[\"Rating\"], (media_index, user_index)), shape=(M, N))\n",
    "\n",
    "    return X, user_mapper, media_mapper, user_inv_mapper, media_inv_mapper"
   ]
  },
  {
   "cell_type": "markdown",
   "metadata": {},
   "source": [
    "Note, Ball Trees as the algorithm to structure the input data, are suitable for high-dimensional data and more efficient than brute force."
   ]
  },
  {
   "cell_type": "code",
   "execution_count": 34,
   "metadata": {
    "id": "iU5uRQ_m_-UK"
   },
   "outputs": [],
   "source": [
    "def get_dimension_reduction_model(X, k, metric='cosine'):\n",
    "    \"\"\"\n",
    "    Trains a k-nearest neighbors algorithm to reduce the dimension of csr matrix.\n",
    "    \"\"\"\n",
    "    k += 1\n",
    "    kNN = NearestNeighbors(n_neighbors=k, algorithm=\"brute\", metric=metric)\n",
    "    kNN.fit(X)\n",
    "    return kNN"
   ]
  },
  {
   "cell_type": "code",
   "execution_count": 35,
   "metadata": {
    "colab": {
     "base_uri": "https://localhost:8080/"
    },
    "id": "vStCFbg6Bmt1",
    "outputId": "7c068abf-035c-45a2-dbc8-b62b20c12e4a"
   },
   "outputs": [],
   "source": [
    "k = 10\n",
    "\n",
    "X, user_mapper, media_mapper, user_inv_mapper, media_inv_mapper = create_matrix(df)\n",
    "model = get_dimension_reduction_model(X, k)\n",
    "\n",
    "# These are required to find similiar items.\n",
    "model.media_mapper = media_mapper\n",
    "model.media_inv_mapper = media_inv_mapper"
   ]
  },
  {
   "cell_type": "code",
   "execution_count": 36,
   "metadata": {
    "colab": {
     "base_uri": "https://localhost:8080/",
     "height": 34
    },
    "id": "lkyIBYHo8Q4k",
    "outputId": "9fd72a5d-5fcf-4559-ffbc-18ad1cc2e610"
   },
   "outputs": [
    {
     "data": {
      "text/plain": [
       "['final_model.joblib']"
      ]
     },
     "execution_count": 36,
     "metadata": {},
     "output_type": "execute_result"
    }
   ],
   "source": [
    "joblib.dump(model, 'final_model.joblib')"
   ]
  },
  {
   "cell_type": "markdown",
   "metadata": {},
   "source": [
    "# Validation\n",
    "To check for popularity bias, i.e. the system tends to recommend popular items, we can check if similar items are also the popular items."
   ]
  },
  {
   "cell_type": "code",
   "execution_count": 41,
   "metadata": {},
   "outputs": [],
   "source": [
    "def find_similar_items(item_id: int, model: NearestNeighbors, k: int):\n",
    "    \"\"\"\n",
    "    Find similar items using KNN.\n",
    "    :param item_id: The id of the item\n",
    "    :param model: A dimension reduction model used to find similar items\n",
    "    :param k: The number of similar items returned.\n",
    "    :returns List with similar ids\n",
    "    \"\"\"\n",
    "    neighbour_ids = []\n",
    "\n",
    "    item_id = model.media_mapper[item_id]\n",
    "    item_vec = model._fit_X[item_id]\n",
    "    k += 1\n",
    "    item_vec = item_vec.reshape(1, -1)\n",
    "    neighbour = model.kneighbors(item_vec, return_distance=False)\n",
    "\n",
    "    for i in range(k):\n",
    "        n = neighbour.item(i)\n",
    "        neighbour_ids.append(model.media_inv_mapper[n])\n",
    "    # We don't want to recommend this item_id itself\n",
    "    neighbour_ids.pop(0)\n",
    "    return neighbour_ids[:k]"
   ]
  },
  {
   "cell_type": "code",
   "execution_count": 42,
   "metadata": {},
   "outputs": [],
   "source": [
    "# given all possible items, compute similar items by the model\n",
    "k = 3\n",
    "similar_items = []\n",
    "\n",
    "for media_id in media_mapper.keys():\n",
    "    similar_ids = find_similar_items(media_id, model, k)\n",
    "    similar_items.extend(similar_ids)"
   ]
  },
  {
   "cell_type": "code",
   "execution_count": 50,
   "metadata": {},
   "outputs": [
    {
     "data": {
      "text/plain": [
       "[204, 1557, 1575, 1587, 405]"
      ]
     },
     "execution_count": 50,
     "metadata": {},
     "output_type": "execute_result"
    }
   ],
   "source": [
    "# most recommended media by model\n",
    "[k for k,v in Counter(similar_items).most_common()[:5]]"
   ]
  },
  {
   "cell_type": "code",
   "execution_count": 51,
   "metadata": {},
   "outputs": [
    {
     "data": {
      "text/plain": [
       "array([294, 288, 258, 121, 286])"
      ]
     },
     "execution_count": 51,
     "metadata": {},
     "output_type": "execute_result"
    }
   ],
   "source": [
    "# most popular media by views\n",
    "item_freq.sort_values('n_views', ascending=False)[\"MediaId\"].values[:5]"
   ]
  },
  {
   "cell_type": "code",
   "execution_count": null,
   "metadata": {},
   "outputs": [],
   "source": []
  }
 ],
 "metadata": {
  "colab": {
   "provenance": [],
   "toc_visible": true
  },
  "kernelspec": {
   "display_name": "Python 3 (ipykernel)",
   "language": "python",
   "name": "python3"
  },
  "language_info": {
   "codemirror_mode": {
    "name": "ipython",
    "version": 3
   },
   "file_extension": ".py",
   "mimetype": "text/x-python",
   "name": "python",
   "nbconvert_exporter": "python",
   "pygments_lexer": "ipython3",
   "version": "3.8.15"
  }
 },
 "nbformat": 4,
 "nbformat_minor": 1
}
